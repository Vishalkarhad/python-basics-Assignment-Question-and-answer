{
 "cells": [
  {
   "cell_type": "markdown",
   "id": "fe17f1eb-f9c4-4de9-8003-5a85bfacb625",
   "metadata": {},
   "source": [
    "Declare two variables, `x` and `y`, and assign them integer values. Swap the\n",
    "values of these variables without using any temporary variable."
   ]
  },
  {
   "cell_type": "code",
   "execution_count": 17,
   "id": "876748a2-d7ba-43c4-985a-bde5b7151766",
   "metadata": {},
   "outputs": [],
   "source": [
    "x = 6"
   ]
  },
  {
   "cell_type": "code",
   "execution_count": 18,
   "id": "650a6d02-14ba-42df-a5bf-4453b256d333",
   "metadata": {},
   "outputs": [],
   "source": [
    "y = 3"
   ]
  },
  {
   "cell_type": "code",
   "execution_count": 19,
   "id": "85681843-49f8-4a87-9b3e-9ee88487ac91",
   "metadata": {},
   "outputs": [],
   "source": [
    "x = x+y"
   ]
  },
  {
   "cell_type": "code",
   "execution_count": 20,
   "id": "169f441b-0dc8-4c2c-8b34-053414699348",
   "metadata": {},
   "outputs": [],
   "source": [
    "y = x-y"
   ]
  },
  {
   "cell_type": "code",
   "execution_count": 21,
   "id": "792b7b6a-c0fb-408d-b2ce-a535cf970292",
   "metadata": {},
   "outputs": [],
   "source": [
    "x = x-y"
   ]
  },
  {
   "cell_type": "code",
   "execution_count": 22,
   "id": "623164e8-61cf-471d-af12-6b65a83cd205",
   "metadata": {},
   "outputs": [
    {
     "data": {
      "text/plain": [
       "3"
      ]
     },
     "execution_count": 22,
     "metadata": {},
     "output_type": "execute_result"
    }
   ],
   "source": [
    "x"
   ]
  },
  {
   "cell_type": "code",
   "execution_count": 23,
   "id": "47525f3b-0083-4292-aad9-0c024741e0f2",
   "metadata": {},
   "outputs": [
    {
     "data": {
      "text/plain": [
       "6"
      ]
     },
     "execution_count": 23,
     "metadata": {},
     "output_type": "execute_result"
    }
   ],
   "source": [
    "y"
   ]
  },
  {
   "cell_type": "markdown",
   "id": "49394b52-10e2-4d17-938b-86c2cd305368",
   "metadata": {},
   "source": [
    "Create a program that calculates the area of a rectangle. Take the length and\n",
    "width as inputs from the user and store them in variables. Calculate and\n",
    "display the area."
   ]
  },
  {
   "cell_type": "code",
   "execution_count": 29,
   "id": "3d799930-031c-4fe7-8cd9-87865b0d1923",
   "metadata": {},
   "outputs": [
    {
     "name": "stdin",
     "output_type": "stream",
     "text": [
      " 5\n"
     ]
    }
   ],
   "source": [
    "length = float(input())\n",
    "\n"
   ]
  },
  {
   "cell_type": "code",
   "execution_count": 30,
   "id": "5fe83855-0e90-4507-a57f-2b0fe2e2306d",
   "metadata": {},
   "outputs": [
    {
     "name": "stdin",
     "output_type": "stream",
     "text": [
      " 6\n"
     ]
    }
   ],
   "source": [
    "width = float(input())"
   ]
  },
  {
   "cell_type": "code",
   "execution_count": 34,
   "id": "103aec4a-2769-462e-bb7c-5f474f0edfd2",
   "metadata": {},
   "outputs": [],
   "source": [
    "area = length*width"
   ]
  },
  {
   "cell_type": "code",
   "execution_count": 38,
   "id": "791a97b4-9ba0-42c9-967c-fc6b4156df22",
   "metadata": {},
   "outputs": [
    {
     "name": "stdout",
     "output_type": "stream",
     "text": [
      "Area of tringle is : 30.0\n"
     ]
    }
   ],
   "source": [
    "print(\"Area of tringle is :\", area)"
   ]
  },
  {
   "cell_type": "markdown",
   "id": "aa2abcf8-9f51-419e-8493-5fbff63e0322",
   "metadata": {},
   "source": [
    "Write a Python program that converts temperatures from Celsius to\n",
    "Fahrenheit. Take the temperature in Celsius as input, store it in a variable,\n",
    "convert it to Fahrenheit, and display the result."
   ]
  },
  {
   "cell_type": "code",
   "execution_count": 40,
   "id": "1db4cbbf-4f9a-4d8e-9173-32a1dc379abf",
   "metadata": {},
   "outputs": [
    {
     "name": "stdin",
     "output_type": "stream",
     "text": [
      "Enter the value of celsius: 50\n"
     ]
    }
   ],
   "source": [
    "celsius = float(input(\"Enter the value of celsius:\"))"
   ]
  },
  {
   "cell_type": "code",
   "execution_count": 41,
   "id": "74ca13fd-c3e2-4cbf-826b-cd90ae8c034e",
   "metadata": {},
   "outputs": [],
   "source": [
    "Fehrenheit = (celsius*9/5)+32"
   ]
  },
  {
   "cell_type": "code",
   "execution_count": 45,
   "id": "377f1058-1f44-40ea-a546-d887edeb753b",
   "metadata": {},
   "outputs": [
    {
     "name": "stdout",
     "output_type": "stream",
     "text": [
      "50.0  degree celsius is equal to 122.0 degree fehrenheit\n"
     ]
    }
   ],
   "source": [
    "print(celsius ,\" degree celsius is equal to\" , Fehrenheit ,\"degree fehrenheit\")"
   ]
  },
  {
   "cell_type": "markdown",
   "id": "90f50a7a-1a4f-4303-8167-2788877ccac6",
   "metadata": {},
   "source": [
    "String Based Questions"
   ]
  },
  {
   "cell_type": "markdown",
   "id": "0a55a30b-3cbc-47b3-a5b4-c551bfd9ccef",
   "metadata": {},
   "source": [
    "Write a Python program that takes a string as input and prints the length of\n",
    "the string."
   ]
  },
  {
   "cell_type": "code",
   "execution_count": 46,
   "id": "66a92a69-c1be-45d8-91a8-16c39542b0bf",
   "metadata": {},
   "outputs": [
    {
     "name": "stdin",
     "output_type": "stream",
     "text": [
      "Enter a string : vishal\n"
     ]
    }
   ],
   "source": [
    "string = str(input(\"Enter a string :\"))"
   ]
  },
  {
   "cell_type": "code",
   "execution_count": 47,
   "id": "e2b0a590-f099-475c-8178-3437fbd103ff",
   "metadata": {},
   "outputs": [],
   "source": [
    "length=len(string)"
   ]
  },
  {
   "cell_type": "code",
   "execution_count": 48,
   "id": "1b5543a1-e50e-4def-8509-da8d8be1dc33",
   "metadata": {},
   "outputs": [
    {
     "data": {
      "text/plain": [
       "6"
      ]
     },
     "execution_count": 48,
     "metadata": {},
     "output_type": "execute_result"
    }
   ],
   "source": [
    "length"
   ]
  },
  {
   "cell_type": "markdown",
   "id": "26009f80-7797-47e1-8a54-b70495da24b7",
   "metadata": {},
   "source": [
    "Create a program that takes a sentence from the user and counts the number\n",
    "of vowels (a, e, i, o, u) in the string."
   ]
  },
  {
   "cell_type": "code",
   "execution_count": 49,
   "id": "92c11a2a-6bab-4015-b842-60641f08699a",
   "metadata": {},
   "outputs": [
    {
     "name": "stdin",
     "output_type": "stream",
     "text": [
      "Enter a sentence vishal\n"
     ]
    }
   ],
   "source": [
    "sentence = input(\"Enter a sentence\")"
   ]
  },
  {
   "cell_type": "code",
   "execution_count": 52,
   "id": "325d072e-77fe-47f6-9e6e-9940ad85842b",
   "metadata": {},
   "outputs": [],
   "source": [
    "vowel_count = 0"
   ]
  },
  {
   "cell_type": "code",
   "execution_count": 53,
   "id": "e7fb1c98-ab47-48c6-b952-468bcb338ed5",
   "metadata": {},
   "outputs": [],
   "source": [
    "vowels = \"aeiou\""
   ]
  },
  {
   "cell_type": "code",
   "execution_count": 54,
   "id": "4da2e11e-db36-4e61-9098-d6a255886215",
   "metadata": {},
   "outputs": [],
   "source": [
    "for char in sentence:\n",
    "    if char in vowels:\n",
    "        vowel_count+=1"
   ]
  },
  {
   "cell_type": "code",
   "execution_count": 55,
   "id": "8b709861-214c-4008-9429-ace457143f77",
   "metadata": {},
   "outputs": [
    {
     "name": "stdout",
     "output_type": "stream",
     "text": [
      "number of vowel in sentence: 2\n"
     ]
    }
   ],
   "source": [
    "print(\"number of vowel in sentence:\",vowel_count)"
   ]
  },
  {
   "cell_type": "markdown",
   "id": "201d183b-0236-4928-bdb8-69bc66843a65",
   "metadata": {},
   "source": [
    "Given a string, reverse the order of characters using string slicing and print\n",
    "the reversed string."
   ]
  },
  {
   "cell_type": "code",
   "execution_count": 61,
   "id": "dade7835-2e43-40d9-bc2c-71adc44e008a",
   "metadata": {},
   "outputs": [
    {
     "name": "stdin",
     "output_type": "stream",
     "text": [
      "Enter a string:  vishal\n"
     ]
    }
   ],
   "source": [
    "string = input(\"Enter a string: \")"
   ]
  },
  {
   "cell_type": "code",
   "execution_count": 62,
   "id": "ada6fb69-66b3-46d1-8e98-62d023f4ce9b",
   "metadata": {},
   "outputs": [],
   "source": [
    "reversed_string = string[::-1]"
   ]
  },
  {
   "cell_type": "code",
   "execution_count": 63,
   "id": "bd402af3-ee11-497a-9372-c48d60c6c517",
   "metadata": {},
   "outputs": [
    {
     "name": "stdout",
     "output_type": "stream",
     "text": [
      "Reversed string: lahsiv\n"
     ]
    }
   ],
   "source": [
    "print(\"Reversed string:\", reversed_string)"
   ]
  },
  {
   "cell_type": "markdown",
   "id": "a21efc06-be2e-4732-818a-4668b3916986",
   "metadata": {},
   "source": [
    "Write a program that takes a string as input and checks if it is a palindrome\n",
    "(reads the same forwards and backwards)."
   ]
  },
  {
   "cell_type": "code",
   "execution_count": 64,
   "id": "a7513423-d15d-4def-8aaf-edff98b8068d",
   "metadata": {},
   "outputs": [
    {
     "name": "stdin",
     "output_type": "stream",
     "text": [
      "Enter a string:  vishal\n"
     ]
    }
   ],
   "source": [
    "input_string = input(\"Enter a string: \")"
   ]
  },
  {
   "cell_type": "code",
   "execution_count": 65,
   "id": "89f777e6-7551-4cce-b17d-9447f14d972e",
   "metadata": {},
   "outputs": [],
   "source": [
    "input_string = input_string.replace(\" \", \"\").lower()"
   ]
  },
  {
   "cell_type": "code",
   "execution_count": 66,
   "id": "b600b451-b8bb-40ad-825f-de9c74fc3ba2",
   "metadata": {},
   "outputs": [],
   "source": [
    "reversed_string = input_string[::-1]"
   ]
  },
  {
   "cell_type": "code",
   "execution_count": 67,
   "id": "e7db6e7c-efed-4fcd-aaba-24dfebd64c5c",
   "metadata": {},
   "outputs": [
    {
     "name": "stdout",
     "output_type": "stream",
     "text": [
      "The input string is not a palindrome.\n"
     ]
    }
   ],
   "source": [
    "if input_string == reversed_string:\n",
    "    print(\"The input string is a palindrome.\")\n",
    "else:\n",
    "    print(\"The input string is not a palindrome.\")"
   ]
  },
  {
   "cell_type": "markdown",
   "id": "c18fb671-7a1f-47cc-82d8-b80ad4bf4a9e",
   "metadata": {},
   "source": [
    "5. Create a program that takes a string as input and removes all the spaces from\n",
    "it. Print the modified string without spaces."
   ]
  },
  {
   "cell_type": "code",
   "execution_count": 68,
   "id": "41cc4d99-7a90-4825-aab1-7ca90b7eaade",
   "metadata": {},
   "outputs": [
    {
     "name": "stdin",
     "output_type": "stream",
     "text": [
      "Enter a string:  my name is vishal\n"
     ]
    }
   ],
   "source": [
    "input_string = input(\"Enter a string: \")"
   ]
  },
  {
   "cell_type": "code",
   "execution_count": 69,
   "id": "e6420355-7b9c-4bcc-88e8-39ea743004b7",
   "metadata": {},
   "outputs": [],
   "source": [
    "modified_string = \"\".join([char for char in input_string if char != \" \"])"
   ]
  },
  {
   "cell_type": "code",
   "execution_count": null,
   "id": "cd3bf2d3-1641-45e1-a358-c5b7ea14a66e",
   "metadata": {},
   "outputs": [],
   "source": []
  }
 ],
 "metadata": {
  "kernelspec": {
   "display_name": "Python 3 (ipykernel)",
   "language": "python",
   "name": "python3"
  },
  "language_info": {
   "codemirror_mode": {
    "name": "ipython",
    "version": 3
   },
   "file_extension": ".py",
   "mimetype": "text/x-python",
   "name": "python",
   "nbconvert_exporter": "python",
   "pygments_lexer": "ipython3",
   "version": "3.10.8"
  }
 },
 "nbformat": 4,
 "nbformat_minor": 5
}
